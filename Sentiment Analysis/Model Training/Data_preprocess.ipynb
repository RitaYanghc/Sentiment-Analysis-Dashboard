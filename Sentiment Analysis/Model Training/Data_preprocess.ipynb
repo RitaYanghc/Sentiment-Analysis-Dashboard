{
  "nbformat": 4,
  "nbformat_minor": 0,
  "metadata": {
    "accelerator": "GPU",
    "colab": {
      "name": "Data_preprocess.ipynb",
      "provenance": [],
      "collapsed_sections": []
    },
    "kernelspec": {
      "display_name": "Python 3",
      "name": "python3"
    }
  },
  "cells": [
    {
      "cell_type": "code",
      "metadata": {
        "colab": {
          "base_uri": "https://localhost:8080/"
        },
        "id": "cM9uwSeFLMd-",
        "outputId": "56f82408-7544-42ce-eca7-d4e14e53ef81"
      },
      "source": [
        "from google.colab import drive\n",
        "drive.mount(\"/content/gdrive\")\n",
        "import os \n",
        "os.chdir(\"/content/gdrive/My Drive/BertTweet\")\n",
        "\n"
      ],
      "execution_count": null,
      "outputs": [
        {
          "output_type": "stream",
          "text": [
            "Mounted at /content/gdrive\n"
          ],
          "name": "stdout"
        }
      ]
    },
    {
      "cell_type": "markdown",
      "metadata": {
        "id": "EBZLpZM1wYmB"
      },
      "source": [
        "# **Country-sentiment**"
      ]
    },
    {
      "cell_type": "code",
      "metadata": {
        "id": "mweQ4eugpM1z"
      },
      "source": [
        "def sentiment_label (Sentiment):\n",
        "   if Sentiment == \"positive\":\n",
        "       return 1\n",
        "   elif Sentiment ==\"neutral\" :\n",
        "       return 0\n",
        "   else:\n",
        "       return -1"
      ],
      "execution_count": null,
      "outputs": []
    },
    {
      "cell_type": "code",
      "metadata": {
        "colab": {
          "base_uri": "https://localhost:8080/"
        },
        "id": "JdzDIyxMolro",
        "outputId": "4ffd9666-4585-4bd7-a102-218aa875d5f5"
      },
      "source": [
        "import pandas as pd\n",
        "import glob\n",
        "path = \"Label_geo/*.csv\"\n",
        "csv_list = glob.glob(path) # collecting all files  same path \n",
        "print(len(csv_list))\n",
        "print(csv_list)"
      ],
      "execution_count": null,
      "outputs": [
        {
          "output_type": "stream",
          "text": [
            "12\n",
            "['Label_geo/2020_4.csv', 'Label_geo/2020_5.csv', 'Label_geo/2020_6.csv', 'Label_geo/2020_7.csv', 'Label_geo/2020_8.csv', 'Label_geo/2020_9.csv', 'Label_geo/2020_10.csv', 'Label_geo/2020_11.csv', 'Label_geo/2020_12.csv', 'Label_geo/2021_01.csv', 'Label_geo/2020_3.csv', 'Label_geo/2021_02.csv']\n"
          ],
          "name": "stdout"
        }
      ]
    },
    {
      "cell_type": "code",
      "metadata": {
        "id": "hmzoXHzPoop_"
      },
      "source": [
        "for f in csv_list:\n",
        "  t = pd.read_csv(f)\n",
        "  data = pd.DataFrame()\n",
        "  data['country'] = t['country']\n",
        "  data['country_code'] = t['country_code']\n",
        "  data['country_freq'] = t['country_freq']\n",
        "  data['target'] = t['target'].apply(sentiment_label)\n",
        "  data = data.loc[data.country_freq>=20]\n",
        "  new_data = data.groupby(['country_code','country','country_freq']).mean()\n",
        "  new_data.reset_index(inplace=True)\n",
        "  sorted = new_data.sort_values(by=['country_freq'],ascending=False)\n",
        "  sorted.reset_index(inplace=True)\n",
        "  sorted = sorted.drop(axis=1,columns='index')\n",
        "  sorted.to_csv('Country'+f[9:])"
      ],
      "execution_count": null,
      "outputs": []
    },
    {
      "cell_type": "code",
      "metadata": {
        "colab": {
          "base_uri": "https://localhost:8080/",
          "height": 359
        },
        "id": "kx7RrmmFrR-i",
        "outputId": "46b0df22-5780-431c-b57a-5caea1cb3002"
      },
      "source": [
        "sorted = new_data.sort_values(by=['country_freq'],ascending=False)\n",
        "sorted.reset_index(inplace=True)\n",
        "sorted = sorted.drop(axis=1,columns='index')\n",
        "sorted.head(10)"
      ],
      "execution_count": null,
      "outputs": [
        {
          "output_type": "execute_result",
          "data": {
            "text/html": [
              "<div>\n",
              "<style scoped>\n",
              "    .dataframe tbody tr th:only-of-type {\n",
              "        vertical-align: middle;\n",
              "    }\n",
              "\n",
              "    .dataframe tbody tr th {\n",
              "        vertical-align: top;\n",
              "    }\n",
              "\n",
              "    .dataframe thead th {\n",
              "        text-align: right;\n",
              "    }\n",
              "</style>\n",
              "<table border=\"1\" class=\"dataframe\">\n",
              "  <thead>\n",
              "    <tr style=\"text-align: right;\">\n",
              "      <th></th>\n",
              "      <th>country_code</th>\n",
              "      <th>country</th>\n",
              "      <th>country_freq</th>\n",
              "      <th>target</th>\n",
              "    </tr>\n",
              "  </thead>\n",
              "  <tbody>\n",
              "    <tr>\n",
              "      <th>0</th>\n",
              "      <td>US</td>\n",
              "      <td>United States</td>\n",
              "      <td>8006</td>\n",
              "      <td>0.370501</td>\n",
              "    </tr>\n",
              "    <tr>\n",
              "      <th>1</th>\n",
              "      <td>GB</td>\n",
              "      <td>United Kingdom</td>\n",
              "      <td>2207</td>\n",
              "      <td>0.295726</td>\n",
              "    </tr>\n",
              "    <tr>\n",
              "      <th>2</th>\n",
              "      <td>IN</td>\n",
              "      <td>India</td>\n",
              "      <td>1880</td>\n",
              "      <td>0.319742</td>\n",
              "    </tr>\n",
              "    <tr>\n",
              "      <th>3</th>\n",
              "      <td>CA</td>\n",
              "      <td>Canada</td>\n",
              "      <td>1113</td>\n",
              "      <td>0.409978</td>\n",
              "    </tr>\n",
              "    <tr>\n",
              "      <th>4</th>\n",
              "      <td>NG</td>\n",
              "      <td>Nigeria</td>\n",
              "      <td>800</td>\n",
              "      <td>0.472403</td>\n",
              "    </tr>\n",
              "    <tr>\n",
              "      <th>5</th>\n",
              "      <td>AU</td>\n",
              "      <td>Australia</td>\n",
              "      <td>374</td>\n",
              "      <td>0.368771</td>\n",
              "    </tr>\n",
              "    <tr>\n",
              "      <th>6</th>\n",
              "      <td>ZA</td>\n",
              "      <td>South Africa</td>\n",
              "      <td>372</td>\n",
              "      <td>0.319149</td>\n",
              "    </tr>\n",
              "    <tr>\n",
              "      <th>7</th>\n",
              "      <td>DE</td>\n",
              "      <td>Germany</td>\n",
              "      <td>272</td>\n",
              "      <td>0.184080</td>\n",
              "    </tr>\n",
              "    <tr>\n",
              "      <th>8</th>\n",
              "      <td>NL</td>\n",
              "      <td>The Netherlands</td>\n",
              "      <td>235</td>\n",
              "      <td>0.208333</td>\n",
              "    </tr>\n",
              "    <tr>\n",
              "      <th>9</th>\n",
              "      <td>ID</td>\n",
              "      <td>Indonesia</td>\n",
              "      <td>215</td>\n",
              "      <td>0.352273</td>\n",
              "    </tr>\n",
              "  </tbody>\n",
              "</table>\n",
              "</div>"
            ],
            "text/plain": [
              "  country_code          country  country_freq    target\n",
              "0           US    United States          8006  0.370501\n",
              "1           GB   United Kingdom          2207  0.295726\n",
              "2           IN            India          1880  0.319742\n",
              "3           CA           Canada          1113  0.409978\n",
              "4           NG          Nigeria           800  0.472403\n",
              "5           AU        Australia           374  0.368771\n",
              "6           ZA     South Africa           372  0.319149\n",
              "7           DE          Germany           272  0.184080\n",
              "8           NL  The Netherlands           235  0.208333\n",
              "9           ID        Indonesia           215  0.352273"
            ]
          },
          "metadata": {
            "tags": []
          },
          "execution_count": 20
        }
      ]
    },
    {
      "cell_type": "markdown",
      "metadata": {
        "id": "OvmnumnQwc_S"
      },
      "source": [
        "# **Country_Examples**"
      ]
    },
    {
      "cell_type": "code",
      "metadata": {
        "id": "MlkV8eD55gv-"
      },
      "source": [
        "for f in csv_list:\n",
        "  ex = pd.read_csv(f)\n",
        "  us = ex.loc[ex['country']=='United States']\n",
        "  us.reset_index(inplace=True)\n",
        "  uk = ex.loc[ex['country']=='United Kingdom']\n",
        "  uk.reset_index(inplace=True)\n",
        "  india = ex.loc[ex['country']=='India'] \n",
        "  india.reset_index(inplace=True)\n",
        "  nig = ex.loc[ex['country']=='Nigeria'] \n",
        "  nig.reset_index(inplace=True)\n",
        "  aus = ex.loc[ex['country']=='Australia']\n",
        "  aus.reset_index(inplace=True)\n",
        "\n",
        "  data = pd.DataFrame()\n",
        "  country_dict={'United States':us,'United Kingdom':uk,'India':india,'Nigeria':nig,'Australia':aus}\n",
        "  country_list = ['United States','United Kingdom','India','Nigeria','Australia']\n",
        "  for c in country_list:\n",
        "    sample = country_dict[c].sample(n=10,replace=False,random_state=2)\n",
        "    sample.reset_index(inplace=True)\n",
        "    data[c+\"_tweets\"] = sample['Tweets']\n",
        "    data[c+\"_sentiment\"] = sample['target']\n",
        "    \n",
        "  data.to_csv('Country_Tweets'+f[9:])"
      ],
      "execution_count": null,
      "outputs": []
    },
    {
      "cell_type": "markdown",
      "metadata": {
        "id": "DkAddSzt9_qu"
      },
      "source": [
        "# **Hydrating**"
      ]
    },
    {
      "cell_type": "code",
      "metadata": {
        "id": "h14eQ5w0mfzi"
      },
      "source": [
        "!pip install twarc"
      ],
      "execution_count": null,
      "outputs": []
    },
    {
      "cell_type": "code",
      "metadata": {
        "id": "W21TN-daTQXC"
      },
      "source": [
        "import twarc\n",
        "consumer_key= '8v52NsWia1nqcc7QRwjfTX0ZF'\n",
        "consumer_secret= '0gZNaJ3qssJyTFjJaCoREwuCQZrp9bX6I0jV3bFhvEku2WDRUC'\n",
        "access_token= '1050161600022437888-eZ9oEomvmQr5Q5rBPHNYu0ghgnUI96'\n",
        "access_token_secret= 'Ldp3j823sKyZVCycMIJrHvcuUEEdTT3OS1cS1JXT1yS88'\n",
        "t = twarc.Twarc(consumer_key, consumer_secret, access_token, access_token_secret)"
      ],
      "execution_count": null,
      "outputs": []
    },
    {
      "cell_type": "code",
      "metadata": {
        "colab": {
          "base_uri": "https://localhost:8080/"
        },
        "id": "h5ti8AQ95m4J",
        "outputId": "1e2be725-cf1a-47e8-82e0-f3b091555191"
      },
      "source": [
        "!pip install jsonlines"
      ],
      "execution_count": null,
      "outputs": [
        {
          "output_type": "stream",
          "text": [
            "Collecting jsonlines\n",
            "  Downloading https://files.pythonhosted.org/packages/d4/58/06f430ff7607a2929f80f07bfd820acbc508a4e977542fefcc522cde9dff/jsonlines-2.0.0-py3-none-any.whl\n",
            "Installing collected packages: jsonlines\n",
            "Successfully installed jsonlines-2.0.0\n"
          ],
          "name": "stdout"
        }
      ]
    },
    {
      "cell_type": "code",
      "metadata": {
        "colab": {
          "base_uri": "https://localhost:8080/"
        },
        "id": "TTFEXf34H3Uk",
        "outputId": "dc097f69-1088-44e5-e94b-f8b2a5c1742a"
      },
      "source": [
        "import jsonlines, json\n",
        "import pandas as pd\n",
        "\n",
        "hydrated_df = []\n",
        "ids = df_tweet['TweetID'].values.tolist()#Getting list of tweet ids from pandas DataFrame\n",
        "ids_to_hydrate = set(ids) #Creating ids_to_hydrate list\n",
        "for tweet in t.hydrate(ids_to_hydrate): \n",
        "  hydrated_df.append(tweet) #Appending Obtained tweet to hydrated_tweets list\n"
      ],
      "execution_count": null,
      "outputs": [
        {
          "output_type": "stream",
          "text": [
            "ERROR:twarc:caught connection error ('Connection aborted.', ConnectionResetError(104, 'Connection reset by peer')) on 1 try\n"
          ],
          "name": "stderr"
        }
      ]
    },
    {
      "cell_type": "code",
      "metadata": {
        "id": "rMS1gJ7DgYEa"
      },
      "source": [
        "import jsonlines, json\n",
        "import pandas as pd\n",
        "month_list = ['march','april','may','june','july','august','september','october','november','december','jan','feb']\n",
        "df_dict = {}\n",
        "for i in month_list:\n",
        "  df_dict['data_'+str(i)] = pd.read_csv(i+'.csv',header=None,sep=\",\") #Loading IEEE Geodata\n",
        "\n",
        "\n",
        "\n"
      ],
      "execution_count": null,
      "outputs": []
    },
    {
      "cell_type": "code",
      "metadata": {
        "id": "foSo4nYO53GY"
      },
      "source": [
        "hydrated_df = {}\n",
        "for key in df_dict:\n",
        "  data = df_dict[key][0]\n",
        "  ids = data.values.tolist()#Getting list of tweet ids from pandas DataFrame\n",
        "  hydrated_df['hydrated_'+key]=[]\n",
        "  ids_to_hydrate = set(ids) #Creating ids_to_hydrate list\n",
        "  for tweet in t.hydrate(ids_to_hydrate): \n",
        "    hydrated_df['hydrated_'+key].append(tweet) #Appending Obtained tweet to hydrated_tweets list\n"
      ],
      "execution_count": null,
      "outputs": []
    },
    {
      "cell_type": "code",
      "metadata": {
        "id": "QrHOBbpyx8E1"
      },
      "source": [
        "data = df_dict[\"data_feb\"][0]\n",
        "ids = data.values.tolist() #Getting list of tweet ids from pandas DataFrame\n",
        "hydrated_tweets = [] #Creating empty list\n",
        "ids_to_hydrate = set(ids) #Creating ids_to_hydrate list\n",
        "# Now, use twarc and start hydrating\n",
        "for tweet in t.hydrate(ids_to_hydrate): \n",
        "  hydrated_tweets.append(tweet) #Appending Obtained tweet to hydrated_tweets list\n"
      ],
      "execution_count": null,
      "outputs": []
    },
    {
      "cell_type": "code",
      "metadata": {
        "id": "DMmakju5yjtb"
      },
      "source": [
        "import csv, jsonlines\n",
        "keyset = [\"created_at\", \"id\", \"id_str\", \"full_text\", \"source\", \"truncated\", \"in_reply_to_status_id\",\n",
        "          \"in_reply_to_status_id_str\", \"in_reply_to_user_id\", \"in_reply_to_user_id_str\", \n",
        "          \"in_reply_to_screen_name\", \"user\", \"coordinates\", \"place\", \"quoted_status_id\",\n",
        "          \"quoted_status_id_str\", \"is_quote_status\", \"quoted_status\", \"retweeted_status\", \n",
        "          \"quote_count\", \"reply_count\", \"retweet_count\", \"favorite_count\", \"entities\", \n",
        "          \"extended_entities\", \"favorited\", \"retweeted\", \"possibly_sensitive\", \"filter_level\", \n",
        "          \"lang\", \"matching_rules\", \"current_user_retweet\", \"scopes\", \"withheld_copyright\", \n",
        "          \"withheld_in_countries\", \"withheld_scope\", \"geo\", \"contributors\", \"display_text_range\",\n",
        "          \"quoted_status_permalink\"]\n",
        "output_filename = \"emotion.csv\"\n",
        "with  open(output_filename, \"w+\") as output_file:\n",
        "    d = csv.DictWriter(output_file, keyset)\n",
        "    d.writeheader()\n",
        "    d.writerows(hydrated_df)\n"
      ],
      "execution_count": null,
      "outputs": []
    },
    {
      "cell_type": "code",
      "metadata": {
        "id": "qxSHE5NyyrCC"
      },
      "source": [
        "df = pd.read_csv(output_filename)"
      ],
      "execution_count": null,
      "outputs": []
    },
    {
      "cell_type": "code",
      "metadata": {
        "colab": {
          "base_uri": "https://localhost:8080/",
          "height": 359
        },
        "id": "gLYAgKRO-SZ6",
        "outputId": "35a64969-bdd1-4e4f-d6fe-7649c0c949a9"
      },
      "source": [
        "df_tweet = pd.DataFrame()\n",
        "df_tweet['Tweets'] = df['full_text']\n",
        "df_tweet['TweetID'] = df['id']\n",
        "df_tweet.head(10)"
      ],
      "execution_count": null,
      "outputs": [
        {
          "output_type": "execute_result",
          "data": {
            "text/html": [
              "<div>\n",
              "<style scoped>\n",
              "    .dataframe tbody tr th:only-of-type {\n",
              "        vertical-align: middle;\n",
              "    }\n",
              "\n",
              "    .dataframe tbody tr th {\n",
              "        vertical-align: top;\n",
              "    }\n",
              "\n",
              "    .dataframe thead th {\n",
              "        text-align: right;\n",
              "    }\n",
              "</style>\n",
              "<table border=\"1\" class=\"dataframe\">\n",
              "  <thead>\n",
              "    <tr style=\"text-align: right;\">\n",
              "      <th></th>\n",
              "      <th>Tweets</th>\n",
              "      <th>TweetID</th>\n",
              "    </tr>\n",
              "  </thead>\n",
              "  <tbody>\n",
              "    <tr>\n",
              "      <th>0</th>\n",
              "      <td>Serious tweet time: I'm more scared of my own ...</td>\n",
              "      <td>1239770742482276354</td>\n",
              "    </tr>\n",
              "    <tr>\n",
              "      <th>1</th>\n",
              "      <td>@realDonaldTrump YOU’RE A GASLIGHTING LIAR!!\\n...</td>\n",
              "      <td>1240244142871019525</td>\n",
              "    </tr>\n",
              "    <tr>\n",
              "      <th>2</th>\n",
              "      <td>Everything must be done to remove Trump from o...</td>\n",
              "      <td>1242242383938453512</td>\n",
              "    </tr>\n",
              "    <tr>\n",
              "      <th>3</th>\n",
              "      <td>@BernieSanders @AOC @IlhanMN @RashidaTlaib Why...</td>\n",
              "      <td>1242273690387185668</td>\n",
              "    </tr>\n",
              "    <tr>\n",
              "      <th>4</th>\n",
              "      <td>WHO global trial looks at 4 most promising cor...</td>\n",
              "      <td>1242399296823025665</td>\n",
              "    </tr>\n",
              "    <tr>\n",
              "      <th>5</th>\n",
              "      <td>RT @Beany_1: Profiteering masquerading as publ...</td>\n",
              "      <td>1242399595067518976</td>\n",
              "    </tr>\n",
              "    <tr>\n",
              "      <th>6</th>\n",
              "      <td>RT @LeadershipNGA: Just In: Buhari’s Chief Of ...</td>\n",
              "      <td>1242399808809308160</td>\n",
              "    </tr>\n",
              "    <tr>\n",
              "      <th>7</th>\n",
              "      <td>I agree , our symptoms are Psychosomatic 😂 htt...</td>\n",
              "      <td>1242400186221105153</td>\n",
              "    </tr>\n",
              "    <tr>\n",
              "      <th>8</th>\n",
              "      <td>I'm happy that our beloved President tested ne...</td>\n",
              "      <td>1242400707728355328</td>\n",
              "    </tr>\n",
              "    <tr>\n",
              "      <th>9</th>\n",
              "      <td>And young people who are getting #COVIDー19 and...</td>\n",
              "      <td>1242402245657997313</td>\n",
              "    </tr>\n",
              "  </tbody>\n",
              "</table>\n",
              "</div>"
            ],
            "text/plain": [
              "                                              Tweets              TweetID\n",
              "0  Serious tweet time: I'm more scared of my own ...  1239770742482276354\n",
              "1  @realDonaldTrump YOU’RE A GASLIGHTING LIAR!!\\n...  1240244142871019525\n",
              "2  Everything must be done to remove Trump from o...  1242242383938453512\n",
              "3  @BernieSanders @AOC @IlhanMN @RashidaTlaib Why...  1242273690387185668\n",
              "4  WHO global trial looks at 4 most promising cor...  1242399296823025665\n",
              "5  RT @Beany_1: Profiteering masquerading as publ...  1242399595067518976\n",
              "6  RT @LeadershipNGA: Just In: Buhari’s Chief Of ...  1242399808809308160\n",
              "7  I agree , our symptoms are Psychosomatic 😂 htt...  1242400186221105153\n",
              "8  I'm happy that our beloved President tested ne...  1242400707728355328\n",
              "9  And young people who are getting #COVIDー19 and...  1242402245657997313"
            ]
          },
          "metadata": {
            "tags": []
          },
          "execution_count": 19
        }
      ]
    },
    {
      "cell_type": "code",
      "metadata": {
        "colab": {
          "base_uri": "https://localhost:8080/",
          "height": 204
        },
        "id": "1V1d2pYcJ1KL",
        "outputId": "db842561-1eb2-4622-bd4b-b6f70f71211f"
      },
      "source": [
        "emotion = df_tweet.merge(emo_tweet,on='TweetID',how='left')\n",
        "emotion.head()"
      ],
      "execution_count": null,
      "outputs": [
        {
          "output_type": "execute_result",
          "data": {
            "text/html": [
              "<div>\n",
              "<style scoped>\n",
              "    .dataframe tbody tr th:only-of-type {\n",
              "        vertical-align: middle;\n",
              "    }\n",
              "\n",
              "    .dataframe tbody tr th {\n",
              "        vertical-align: top;\n",
              "    }\n",
              "\n",
              "    .dataframe thead th {\n",
              "        text-align: right;\n",
              "    }\n",
              "</style>\n",
              "<table border=\"1\" class=\"dataframe\">\n",
              "  <thead>\n",
              "    <tr style=\"text-align: right;\">\n",
              "      <th></th>\n",
              "      <th>Tweets</th>\n",
              "      <th>TweetID</th>\n",
              "      <th>Label</th>\n",
              "    </tr>\n",
              "  </thead>\n",
              "  <tbody>\n",
              "    <tr>\n",
              "      <th>0</th>\n",
              "      <td>Serious tweet time: I'm more scared of my own ...</td>\n",
              "      <td>1239770742482276354</td>\n",
              "      <td>3</td>\n",
              "    </tr>\n",
              "    <tr>\n",
              "      <th>1</th>\n",
              "      <td>@realDonaldTrump YOU’RE A GASLIGHTING LIAR!!\\n...</td>\n",
              "      <td>1240244142871019525</td>\n",
              "      <td>2</td>\n",
              "    </tr>\n",
              "    <tr>\n",
              "      <th>2</th>\n",
              "      <td>Everything must be done to remove Trump from o...</td>\n",
              "      <td>1242242383938453512</td>\n",
              "      <td>0</td>\n",
              "    </tr>\n",
              "    <tr>\n",
              "      <th>3</th>\n",
              "      <td>@BernieSanders @AOC @IlhanMN @RashidaTlaib Why...</td>\n",
              "      <td>1242273690387185668</td>\n",
              "      <td>0</td>\n",
              "    </tr>\n",
              "    <tr>\n",
              "      <th>4</th>\n",
              "      <td>WHO global trial looks at 4 most promising cor...</td>\n",
              "      <td>1242399296823025665</td>\n",
              "      <td>1</td>\n",
              "    </tr>\n",
              "  </tbody>\n",
              "</table>\n",
              "</div>"
            ],
            "text/plain": [
              "                                              Tweets  ...  Label\n",
              "0  Serious tweet time: I'm more scared of my own ...  ...      3\n",
              "1  @realDonaldTrump YOU’RE A GASLIGHTING LIAR!!\\n...  ...      2\n",
              "2  Everything must be done to remove Trump from o...  ...      0\n",
              "3  @BernieSanders @AOC @IlhanMN @RashidaTlaib Why...  ...      0\n",
              "4  WHO global trial looks at 4 most promising cor...  ...      1\n",
              "\n",
              "[5 rows x 3 columns]"
            ]
          },
          "metadata": {
            "tags": []
          },
          "execution_count": 22
        }
      ]
    },
    {
      "cell_type": "code",
      "metadata": {
        "id": "5X9eiiWUcUb4"
      },
      "source": [
        "#data['TweetID'] = data['TweetID'].astype(str).astype(int)\n",
        "data['TweetID'] = pd.to_numeric(data['TweetID'])"
      ],
      "execution_count": null,
      "outputs": []
    },
    {
      "cell_type": "markdown",
      "metadata": {
        "id": "iv-8QFuW-IFf"
      },
      "source": [
        "# **Filtering**"
      ]
    },
    {
      "cell_type": "code",
      "metadata": {
        "id": "N5ui0vdU7NyD"
      },
      "source": [
        "import tweepy as tw\n",
        "import pandas as pd\n",
        "consumer_key= '8v52NsWia1nqcc7QRwjfTX0ZF'\n",
        "consumer_secret= '0gZNaJ3qssJyTFjJaCoREwuCQZrp9bX6I0jV3bFhvEku2WDRUC'\n",
        "access_token= '1050161600022437888-eZ9oEomvmQr5Q5rBPHNYu0ghgnUI96'\n",
        "access_token_secret= 'Ldp3j823sKyZVCycMIJrHvcuUEEdTT3OS1cS1JXT1yS88'\n",
        "auth = tw.OAuthHandler(consumer_key, consumer_secret)\n",
        "auth.set_access_token(access_token, access_token_secret)\n",
        "api = tw.API(auth, wait_on_rate_limit=True)\n",
        "search_words = \"vaccine\"+ \" -filter:retweets\"\n",
        "\n",
        "\n",
        "data = []\n",
        "for tweet in tw.Cursor(api.search,\n",
        "              q=search_words,\n",
        "              lang=\"en\",\n",
        "              since='2021-02-11',\n",
        "              until='2021-02-18',\n",
        "              tweet_mode=\"extended\").items(3000):\n",
        "              data.append(tweet.full_text)\n",
        "df_tweet = pd.DataFrame(data,columns=['Tweets'])\n",
        "\n",
        "\n"
      ],
      "execution_count": null,
      "outputs": []
    },
    {
      "cell_type": "markdown",
      "metadata": {
        "id": "31STofQ3IHhu"
      },
      "source": [
        "# **Clean Tweets**\n"
      ]
    },
    {
      "cell_type": "code",
      "metadata": {
        "colab": {
          "background_save": true,
          "base_uri": "https://localhost:8080/",
          "height": 374
        },
        "id": "6Xkwfc5cwjav",
        "outputId": "572abd83-9211-4911-c12f-fbf873c504ea"
      },
      "source": [
        "temp = pd.read_csv('Geo_tagged/2020_3.csv')\n",
        "data = pd.DataFrame()\n",
        "data['time']  = temp['created_at']\n",
        "data[\"Tweets\"] = temp[\"full_text\"]\n",
        "data['id'] = temp['id_str']\n",
        "data['place'] = temp['place']\n",
        "data.insert(4,'country',value='.')\n",
        "data.insert(5,'country_code',value='.')\n",
        "data = data.dropna(axis=0,how='any')\n",
        "for k,v in data['place'].items():\n",
        "    data['country'][k]= eval(temp['place'][k])['country']\n",
        "    data['country_code'][k]=eval(temp['place'][k])['country_code']\n",
        "data = data.drop(axis=1,columns='place')\n",
        "data.head()"
      ],
      "execution_count": null,
      "outputs": [
        {
          "output_type": "stream",
          "text": [
            "/usr/local/lib/python3.7/dist-packages/ipykernel_launcher.py:12: SettingWithCopyWarning: \n",
            "A value is trying to be set on a copy of a slice from a DataFrame\n",
            "\n",
            "See the caveats in the documentation: https://pandas.pydata.org/pandas-docs/stable/user_guide/indexing.html#returning-a-view-versus-a-copy\n",
            "  if sys.path[0] == '':\n",
            "/usr/local/lib/python3.7/dist-packages/ipykernel_launcher.py:13: SettingWithCopyWarning: \n",
            "A value is trying to be set on a copy of a slice from a DataFrame\n",
            "\n",
            "See the caveats in the documentation: https://pandas.pydata.org/pandas-docs/stable/user_guide/indexing.html#returning-a-view-versus-a-copy\n",
            "  del sys.path[0]\n"
          ],
          "name": "stderr"
        },
        {
          "output_type": "execute_result",
          "data": {
            "text/html": [
              "<div>\n",
              "<style scoped>\n",
              "    .dataframe tbody tr th:only-of-type {\n",
              "        vertical-align: middle;\n",
              "    }\n",
              "\n",
              "    .dataframe tbody tr th {\n",
              "        vertical-align: top;\n",
              "    }\n",
              "\n",
              "    .dataframe thead th {\n",
              "        text-align: right;\n",
              "    }\n",
              "</style>\n",
              "<table border=\"1\" class=\"dataframe\">\n",
              "  <thead>\n",
              "    <tr style=\"text-align: right;\">\n",
              "      <th></th>\n",
              "      <th>Tweets</th>\n",
              "      <th>id</th>\n",
              "      <th>country</th>\n",
              "      <th>country_code</th>\n",
              "      <th>date</th>\n",
              "    </tr>\n",
              "  </thead>\n",
              "  <tbody>\n",
              "    <tr>\n",
              "      <th>0</th>\n",
              "      <td>Kuya Jayzeus #distancelearning #homeschooling ...</td>\n",
              "      <td>1356480021813149702</td>\n",
              "      <td>Republic of the Philippines</td>\n",
              "      <td>PH</td>\n",
              "      <td>2021-02-02</td>\n",
              "    </tr>\n",
              "    <tr>\n",
              "      <th>1</th>\n",
              "      <td>@ltgovjoshgreen joins the Wake Up Crew Tuesday...</td>\n",
              "      <td>1356504125878505474</td>\n",
              "      <td>United States</td>\n",
              "      <td>US</td>\n",
              "      <td>2021-02-02</td>\n",
              "    </tr>\n",
              "    <tr>\n",
              "      <th>2</th>\n",
              "      <td>Don't miss your prenatal appointments during C...</td>\n",
              "      <td>1356644853703184385</td>\n",
              "      <td>United States</td>\n",
              "      <td>US</td>\n",
              "      <td>2021-02-02</td>\n",
              "    </tr>\n",
              "    <tr>\n",
              "      <th>3</th>\n",
              "      <td>Solo lockdown life @ Royal Tunbridge Wells htt...</td>\n",
              "      <td>1356704213540212737</td>\n",
              "      <td>United Kingdom</td>\n",
              "      <td>GB</td>\n",
              "      <td>2021-02-02</td>\n",
              "    </tr>\n",
              "    <tr>\n",
              "      <th>4</th>\n",
              "      <td>A glorious burst of beautiful light.\\n#lastlig...</td>\n",
              "      <td>1356720321043304451</td>\n",
              "      <td>United Kingdom</td>\n",
              "      <td>GB</td>\n",
              "      <td>2021-02-02</td>\n",
              "    </tr>\n",
              "  </tbody>\n",
              "</table>\n",
              "</div>"
            ],
            "text/plain": [
              "                                              Tweets  ...        date\n",
              "0  Kuya Jayzeus #distancelearning #homeschooling ...  ...  2021-02-02\n",
              "1  @ltgovjoshgreen joins the Wake Up Crew Tuesday...  ...  2021-02-02\n",
              "2  Don't miss your prenatal appointments during C...  ...  2021-02-02\n",
              "3  Solo lockdown life @ Royal Tunbridge Wells htt...  ...  2021-02-02\n",
              "4  A glorious burst of beautiful light.\\n#lastlig...  ...  2021-02-02\n",
              "\n",
              "[5 rows x 5 columns]"
            ]
          },
          "metadata": {
            "tags": []
          },
          "execution_count": 0
        }
      ]
    },
    {
      "cell_type": "code",
      "metadata": {
        "colab": {
          "base_uri": "https://localhost:8080/"
        },
        "id": "R9EhmL1Szjxu",
        "outputId": "2779f8fc-0380-4c92-fd73-eb0df7daef15"
      },
      "source": [
        "data.info()"
      ],
      "execution_count": null,
      "outputs": [
        {
          "output_type": "stream",
          "text": [
            "<class 'pandas.core.frame.DataFrame'>\n",
            "Int64Index: 9492 entries, 0 to 9522\n",
            "Data columns (total 5 columns):\n",
            " #   Column        Non-Null Count  Dtype \n",
            "---  ------        --------------  ----- \n",
            " 0   time          9492 non-null   object\n",
            " 1   Tweets        9492 non-null   object\n",
            " 2   id            9492 non-null   int64 \n",
            " 3   country       9492 non-null   object\n",
            " 4   country_code  9492 non-null   object\n",
            "dtypes: int64(1), object(4)\n",
            "memory usage: 764.9+ KB\n"
          ],
          "name": "stdout"
        }
      ]
    },
    {
      "cell_type": "code",
      "metadata": {
        "colab": {
          "base_uri": "https://localhost:8080/"
        },
        "id": "YRDsLljaVe7r",
        "outputId": "107b5871-544f-48ae-bb84-b84c4349b046"
      },
      "source": [
        "from datetime import datetime\n",
        "from dateutil.parser import parse\n",
        "\n",
        "date = 'Fri May 10 00:44:04 +0000 2019' \n",
        "dt = parse(date)\n",
        "dt\n",
        "#data['time'].value_counts()"
      ],
      "execution_count": null,
      "outputs": [
        {
          "output_type": "stream",
          "text": [
            "<class 'datetime.datetime'>\n"
          ],
          "name": "stdout"
        }
      ]
    },
    {
      "cell_type": "code",
      "metadata": {
        "id": "Jzn53cYLLOdU"
      },
      "source": [
        "for f in csv_list:\n",
        "  data = pd.DataFrame()\n",
        "  temp = pd.read_csv(f)#reading the csv file\n",
        "  data['time']  = temp['created_at']\n",
        "  data[\"Tweets\"] = temp[\"full_text\"]\n",
        "  data['id'] = temp['id_str']\n",
        "  data['place'] = temp['place']\n",
        "  data.insert(4,'country',value='.')\n",
        "  data.insert(5,'country_code',value='.')\n",
        "  for k,v in data['place'].items():\n",
        "    df_tweet['country'][k]= eval(df_tweet['place'][k])['country']\n",
        "    df_tweet['country_code'][k]=eval(df_tweet['place'][k])['country_code']\n",
        "  data = data.drop(axis=1,columns='place')\n",
        "  data.reset_index(drop=True,inplace=True) #resetting the indexes"
      ],
      "execution_count": null,
      "outputs": []
    },
    {
      "cell_type": "code",
      "metadata": {
        "id": "x6KJiMpRLrJv"
      },
      "source": [
        "data= data.drop(axis=1,columns=3)\n",
        "data= data.drop(axis=1,columns=0)\n",
        "data.columns=['target','Tweets']"
      ],
      "execution_count": null,
      "outputs": []
    },
    {
      "cell_type": "code",
      "metadata": {
        "id": "CLF8Ulni2dM3"
      },
      "source": [
        "import pandas as pd\n",
        "data = pd.read_csv('data.csv')"
      ],
      "execution_count": null,
      "outputs": []
    },
    {
      "cell_type": "code",
      "metadata": {
        "colab": {
          "base_uri": "https://localhost:8080/"
        },
        "id": "j9hDdOSK1LdF",
        "outputId": "30b0254e-da8e-41fe-ea25-c39a88123983"
      },
      "source": [
        "!pip install emoji\n",
        "import re\n",
        "import emoji\n",
        "import string\n",
        "def clean_html(tweet):\n",
        "  tweet = ' '.join(re.sub(\"(\\w+:\\/\\/\\S+)\", \" \", tweet).split())\n",
        "  return tweet\n",
        "\n",
        "def clean_hashtag(tweet):\n",
        "  tweet = tweet.replace(\"#\", \" \").replace(\"_\", \" \")\n",
        "  return tweet\n",
        "\n",
        "def clean_punc(tweet):\n",
        "  tweet = ' '.join(re.sub(\"[\\.\\,\\!\\?\\:\\;\\-\\=]\", \" \", tweet).split())\n",
        "  return tweet\n",
        "\n",
        "\n",
        "def replace_emoji(text):\n",
        "    text = text.lower().strip()\n",
        "    text = emoji.demojize(text, delimiters=(' ', ' '))\n",
        "    return text \n",
        "\n",
        "def replace_at(text):\n",
        "  text = text.strip()\n",
        "  text = text.replace(\"@\",\"at \")\n",
        "  return text\n",
        "\n",
        "def lower_case(tweet):\n",
        "  tweet = tweet.lower()\n",
        "  return tweet\n",
        "\n"
      ],
      "execution_count": null,
      "outputs": [
        {
          "output_type": "stream",
          "text": [
            "Requirement already satisfied: emoji in /usr/local/lib/python3.7/dist-packages (1.2.0)\n"
          ],
          "name": "stdout"
        }
      ]
    },
    {
      "cell_type": "markdown",
      "metadata": {
        "id": "bpBF0arWhSh7"
      },
      "source": [
        "# **Visualization Trial**"
      ]
    },
    {
      "cell_type": "code",
      "metadata": {
        "colab": {
          "base_uri": "https://localhost:8080/"
        },
        "id": "QYHF49nxhWMz",
        "outputId": "c74c8efd-fbd8-436e-a48a-e5fce2a5d1d6"
      },
      "source": [
        "import pandas as pd\n",
        "import glob\n",
        "path = \"Label_geo/*.csv\"\n",
        "csv_list = glob.glob(path) # collecting all files  same path \n",
        "print(len(csv_list))\n",
        "print(csv_list)\n"
      ],
      "execution_count": null,
      "outputs": [
        {
          "output_type": "stream",
          "text": [
            "12\n",
            "['Label_geo/2020_4.csv', 'Label_geo/2020_5.csv', 'Label_geo/2020_6.csv', 'Label_geo/2020_7.csv', 'Label_geo/2020_8.csv', 'Label_geo/2020_9.csv', 'Label_geo/2020_10.csv', 'Label_geo/2020_11.csv', 'Label_geo/2020_12.csv', 'Label_geo/2021_01.csv', 'Label_geo/2020_3.csv', 'Label_geo/2021_02.csv']\n"
          ],
          "name": "stdout"
        }
      ]
    },
    {
      "cell_type": "code",
      "metadata": {
        "colab": {
          "base_uri": "https://localhost:8080/"
        },
        "id": "U5f9VP4XhXHQ",
        "outputId": "ed92c61f-f756-485f-d4e9-15988e528db1"
      },
      "source": [
        "data = pd.DataFrame()\n",
        "for f in csv_list:\n",
        "  data = pd.concat([data,pd.read_csv(f)])\n",
        "data.info()"
      ],
      "execution_count": null,
      "outputs": [
        {
          "output_type": "stream",
          "text": [
            "<class 'pandas.core.frame.DataFrame'>\n",
            "Int64Index: 172240 entries, 0 to 13094\n",
            "Data columns (total 10 columns):\n",
            " #   Column        Non-Null Count   Dtype \n",
            "---  ------        --------------   ----- \n",
            " 0   Unnamed: 0    172240 non-null  int64 \n",
            " 1   Unnamed: 0.1  172240 non-null  int64 \n",
            " 2   Tweets        172240 non-null  object\n",
            " 3   id            172240 non-null  int64 \n",
            " 4   country       172240 non-null  object\n",
            " 5   country_code  172240 non-null  object\n",
            " 6   date          172240 non-null  object\n",
            " 7   date_freq     172240 non-null  int64 \n",
            " 8   country_freq  172240 non-null  int64 \n",
            " 9   target        172240 non-null  object\n",
            "dtypes: int64(5), object(5)\n",
            "memory usage: 14.5+ MB\n"
          ],
          "name": "stdout"
        }
      ]
    },
    {
      "cell_type": "code",
      "metadata": {
        "id": "Tf52_EqMldLD"
      },
      "source": [
        "temp = data.groupby(['date']).size()"
      ],
      "execution_count": null,
      "outputs": []
    },
    {
      "cell_type": "code",
      "metadata": {
        "colab": {
          "base_uri": "https://localhost:8080/"
        },
        "id": "e0kamF84mjLQ",
        "outputId": "53168ffe-6914-41a1-d07d-7001c8db2f03"
      },
      "source": [
        "type)t"
      ],
      "execution_count": null,
      "outputs": [
        {
          "output_type": "execute_result",
          "data": {
            "text/plain": [
              "date\n",
              "2020-03-19    164\n",
              "2020-03-20    906\n",
              "2020-03-21    955\n",
              "2020-03-22    988\n",
              "2020-03-23    886\n",
              "dtype: int64"
            ]
          },
          "metadata": {
            "tags": []
          },
          "execution_count": 19
        }
      ]
    },
    {
      "cell_type": "code",
      "metadata": {
        "id": "g_jXIozHhgSU"
      },
      "source": [
        "pos = data.loc[data.target=='positive']\n",
        "pos.info()"
      ],
      "execution_count": null,
      "outputs": []
    },
    {
      "cell_type": "code",
      "metadata": {
        "colab": {
          "base_uri": "https://localhost:8080/",
          "height": 204
        },
        "id": "MgGmU-h5lG7o",
        "outputId": "5c9ac6f1-2bbb-4ad2-a7e2-f59d5caa2b34"
      },
      "source": [
        "pos.head()"
      ],
      "execution_count": null,
      "outputs": [
        {
          "output_type": "execute_result",
          "data": {
            "text/html": [
              "<div>\n",
              "<style scoped>\n",
              "    .dataframe tbody tr th:only-of-type {\n",
              "        vertical-align: middle;\n",
              "    }\n",
              "\n",
              "    .dataframe tbody tr th {\n",
              "        vertical-align: top;\n",
              "    }\n",
              "\n",
              "    .dataframe thead th {\n",
              "        text-align: right;\n",
              "    }\n",
              "</style>\n",
              "<table border=\"1\" class=\"dataframe\">\n",
              "  <thead>\n",
              "    <tr style=\"text-align: right;\">\n",
              "      <th></th>\n",
              "      <th>Unnamed: 0</th>\n",
              "      <th>Unnamed: 0.1</th>\n",
              "      <th>Tweets</th>\n",
              "      <th>id</th>\n",
              "      <th>country</th>\n",
              "      <th>country_code</th>\n",
              "      <th>date</th>\n",
              "      <th>date_freq</th>\n",
              "      <th>country_freq</th>\n",
              "      <th>target</th>\n",
              "    </tr>\n",
              "  </thead>\n",
              "  <tbody>\n",
              "    <tr>\n",
              "      <th>0</th>\n",
              "      <td>0</td>\n",
              "      <td>8947</td>\n",
              "      <td>Coronavirus update Asia  India 1429 new cases ...</td>\n",
              "      <td>1254016488673103872</td>\n",
              "      <td>Australia</td>\n",
              "      <td>AU</td>\n",
              "      <td>2020-04-25</td>\n",
              "      <td>705</td>\n",
              "      <td>374</td>\n",
              "      <td>positive</td>\n",
              "    </tr>\n",
              "    <tr>\n",
              "      <th>1</th>\n",
              "      <td>1</td>\n",
              "      <td>526</td>\n",
              "      <td>FashionRevolutionWeek moves online this year o...</td>\n",
              "      <td>1252616429960134656</td>\n",
              "      <td>United Kingdom</td>\n",
              "      <td>GB</td>\n",
              "      <td>2020-04-21</td>\n",
              "      <td>751</td>\n",
              "      <td>2207</td>\n",
              "      <td>positive</td>\n",
              "    </tr>\n",
              "    <tr>\n",
              "      <th>2</th>\n",
              "      <td>2</td>\n",
              "      <td>11344</td>\n",
              "      <td>Identity and Meditations Full Video Video diar...</td>\n",
              "      <td>1255809454584532997</td>\n",
              "      <td>United Kingdom</td>\n",
              "      <td>GB</td>\n",
              "      <td>2020-04-30</td>\n",
              "      <td>1394</td>\n",
              "      <td>2207</td>\n",
              "      <td>positive</td>\n",
              "    </tr>\n",
              "    <tr>\n",
              "      <th>5</th>\n",
              "      <td>5</td>\n",
              "      <td>6724</td>\n",
              "      <td>Coronavirus got me in my bagnigga if you cough...</td>\n",
              "      <td>1251530507143262208</td>\n",
              "      <td>United States</td>\n",
              "      <td>US</td>\n",
              "      <td>2020-04-18</td>\n",
              "      <td>697</td>\n",
              "      <td>8006</td>\n",
              "      <td>positive</td>\n",
              "    </tr>\n",
              "    <tr>\n",
              "      <th>6</th>\n",
              "      <td>6</td>\n",
              "      <td>4152</td>\n",
              "      <td>Fighting Stigma Coronavirus 44 deaths and 597 ...</td>\n",
              "      <td>1251480737372450817</td>\n",
              "      <td>Canada</td>\n",
              "      <td>CA</td>\n",
              "      <td>2020-04-18</td>\n",
              "      <td>697</td>\n",
              "      <td>1113</td>\n",
              "      <td>positive</td>\n",
              "    </tr>\n",
              "  </tbody>\n",
              "</table>\n",
              "</div>"
            ],
            "text/plain": [
              "   Unnamed: 0  Unnamed: 0.1  ... country_freq    target\n",
              "0           0          8947  ...          374  positive\n",
              "1           1           526  ...         2207  positive\n",
              "2           2         11344  ...         2207  positive\n",
              "5           5          6724  ...         8006  positive\n",
              "6           6          4152  ...         1113  positive\n",
              "\n",
              "[5 rows x 10 columns]"
            ]
          },
          "metadata": {
            "tags": []
          },
          "execution_count": 12
        }
      ]
    },
    {
      "cell_type": "code",
      "metadata": {
        "colab": {
          "base_uri": "https://localhost:8080/",
          "height": 282
        },
        "id": "CifmAILok65d",
        "outputId": "412730ab-c453-4e95-d8a6-648660cef363"
      },
      "source": [
        "pos.date.value_counts().plot()"
      ],
      "execution_count": null,
      "outputs": [
        {
          "output_type": "execute_result",
          "data": {
            "text/plain": [
              "<matplotlib.axes._subplots.AxesSubplot at 0x7f2a38b49e90>"
            ]
          },
          "metadata": {
            "tags": []
          },
          "execution_count": 11
        },
        {
          "output_type": "display_data",
          "data": {
            "image/png": "[encoded data removed]",
            "text/plain": [
              "<Figure size 432x288 with 1 Axes>"
            ]
          },
          "metadata": {
            "tags": []
          }
        }
      ]
    },
    {
      "cell_type": "code",
      "metadata": {
        "id": "VRVHItf5hpnm"
      },
      "source": [
        "df = pd.read_csv('https://raw.githubusercontent.com/plotly/datasets/master/finance-charts-apple.csv')"
      ],
      "execution_count": null,
      "outputs": []
    },
    {
      "cell_type": "code",
      "metadata": {
        "colab": {
          "base_uri": "https://localhost:8080/",
          "height": 204
        },
        "id": "hgdz9TN7kjL_",
        "outputId": "a2ab2309-0801-4ec3-8dfa-db0d498414c2"
      },
      "source": [
        "df.head()"
      ],
      "execution_count": null,
      "outputs": [
        {
          "output_type": "execute_result",
          "data": {
            "text/html": [
              "<div>\n",
              "<style scoped>\n",
              "    .dataframe tbody tr th:only-of-type {\n",
              "        vertical-align: middle;\n",
              "    }\n",
              "\n",
              "    .dataframe tbody tr th {\n",
              "        vertical-align: top;\n",
              "    }\n",
              "\n",
              "    .dataframe thead th {\n",
              "        text-align: right;\n",
              "    }\n",
              "</style>\n",
              "<table border=\"1\" class=\"dataframe\">\n",
              "  <thead>\n",
              "    <tr style=\"text-align: right;\">\n",
              "      <th></th>\n",
              "      <th>Date</th>\n",
              "      <th>AAPL.Open</th>\n",
              "      <th>AAPL.High</th>\n",
              "      <th>AAPL.Low</th>\n",
              "      <th>AAPL.Close</th>\n",
              "      <th>AAPL.Volume</th>\n",
              "      <th>AAPL.Adjusted</th>\n",
              "      <th>dn</th>\n",
              "      <th>mavg</th>\n",
              "      <th>up</th>\n",
              "      <th>direction</th>\n",
              "    </tr>\n",
              "  </thead>\n",
              "  <tbody>\n",
              "    <tr>\n",
              "      <th>0</th>\n",
              "      <td>2015-02-17</td>\n",
              "      <td>127.489998</td>\n",
              "      <td>128.880005</td>\n",
              "      <td>126.919998</td>\n",
              "      <td>127.830002</td>\n",
              "      <td>63152400</td>\n",
              "      <td>122.905254</td>\n",
              "      <td>106.741052</td>\n",
              "      <td>117.927667</td>\n",
              "      <td>129.114281</td>\n",
              "      <td>Increasing</td>\n",
              "    </tr>\n",
              "    <tr>\n",
              "      <th>1</th>\n",
              "      <td>2015-02-18</td>\n",
              "      <td>127.629997</td>\n",
              "      <td>128.779999</td>\n",
              "      <td>127.449997</td>\n",
              "      <td>128.720001</td>\n",
              "      <td>44891700</td>\n",
              "      <td>123.760965</td>\n",
              "      <td>107.842423</td>\n",
              "      <td>118.940333</td>\n",
              "      <td>130.038244</td>\n",
              "      <td>Increasing</td>\n",
              "    </tr>\n",
              "    <tr>\n",
              "      <th>2</th>\n",
              "      <td>2015-02-19</td>\n",
              "      <td>128.479996</td>\n",
              "      <td>129.029999</td>\n",
              "      <td>128.330002</td>\n",
              "      <td>128.449997</td>\n",
              "      <td>37362400</td>\n",
              "      <td>123.501363</td>\n",
              "      <td>108.894245</td>\n",
              "      <td>119.889167</td>\n",
              "      <td>130.884089</td>\n",
              "      <td>Decreasing</td>\n",
              "    </tr>\n",
              "    <tr>\n",
              "      <th>3</th>\n",
              "      <td>2015-02-20</td>\n",
              "      <td>128.619995</td>\n",
              "      <td>129.500000</td>\n",
              "      <td>128.050003</td>\n",
              "      <td>129.500000</td>\n",
              "      <td>48948400</td>\n",
              "      <td>124.510914</td>\n",
              "      <td>109.785449</td>\n",
              "      <td>120.763500</td>\n",
              "      <td>131.741551</td>\n",
              "      <td>Increasing</td>\n",
              "    </tr>\n",
              "    <tr>\n",
              "      <th>4</th>\n",
              "      <td>2015-02-23</td>\n",
              "      <td>130.020004</td>\n",
              "      <td>133.000000</td>\n",
              "      <td>129.660004</td>\n",
              "      <td>133.000000</td>\n",
              "      <td>70974100</td>\n",
              "      <td>127.876074</td>\n",
              "      <td>110.372516</td>\n",
              "      <td>121.720167</td>\n",
              "      <td>133.067817</td>\n",
              "      <td>Increasing</td>\n",
              "    </tr>\n",
              "  </tbody>\n",
              "</table>\n",
              "</div>"
            ],
            "text/plain": [
              "         Date   AAPL.Open   AAPL.High  ...        mavg          up   direction\n",
              "0  2015-02-17  127.489998  128.880005  ...  117.927667  129.114281  Increasing\n",
              "1  2015-02-18  127.629997  128.779999  ...  118.940333  130.038244  Increasing\n",
              "2  2015-02-19  128.479996  129.029999  ...  119.889167  130.884089  Decreasing\n",
              "3  2015-02-20  128.619995  129.500000  ...  120.763500  131.741551  Increasing\n",
              "4  2015-02-23  130.020004  133.000000  ...  121.720167  133.067817  Increasing\n",
              "\n",
              "[5 rows x 11 columns]"
            ]
          },
          "metadata": {
            "tags": []
          },
          "execution_count": 7
        }
      ]
    },
    {
      "cell_type": "code",
      "metadata": {
        "colab": {
          "base_uri": "https://localhost:8080/",
          "height": 542
        },
        "id": "_B_tttSLkug2",
        "outputId": "3ec22302-05b7-4928-8409-aabc619bc002"
      },
      "source": [
        "import plotly.graph_objects as go\n",
        "\n",
        "fig = go.Figure([go.Scatter(x=df['Date'], y=df['AAPL.High'])])\n",
        "fig.show()"
      ],
      "execution_count": null,
      "outputs": [
        {
          "output_type": "display_data",
          "data": {
            "text/html": [
              "<html>\n",
              "<head><meta charset=\"utf-8\" /></head>\n",
              "<body>\n",
              "    <div>\n",
              "            <script src=\"https://cdnjs.cloudflare.com/ajax/libs/mathjax/2.7.5/MathJax.js?config=TeX-AMS-MML_SVG\"></script><script type=\"text/javascript\">if (window.MathJax) {MathJax.Hub.Config({SVG: {font: \"STIX-Web\"}});}</script>\n",
              "                <script type=\"text/javascript\">window.PlotlyConfig = {MathJaxConfig: 'local'};</script>\n",
              "        <script src=\"https://cdn.plot.ly/plotly-latest.min.js\"></script>    \n",
              "            <div id=\"fbb35172-2a99-4c8d-8dc6-948dce7a7a19\" class=\"plotly-graph-div\" style=\"height:525px; width:100%;\"></div>\n",
              "            <script type=\"text/javascript\">\n",
              "                \n",
              "                    window.PLOTLYENV=window.PLOTLYENV || {};\n",
              "                    \n",
              "                if (document.getElementById(\"fbb35172-2a99-4c8d-8dc6-948dce7a7a19\")) {\n",
              "                    Plotly.newPlot(\n",
              "                        'fbb35172-2a99-4c8d-8dc6-948dce7a7a19',\n",
              "                        [{\"type\": \"scatter\", \"x\": [\"2015-02-17\", \"2015-02-18\", \"2015-02-19\", \"2015-02-20\", \"2015-02-23\", \"2015-02-24\", \"2015-02-25\", \"2015-02-26\", \"2015-02-27\", \"2015-03-02\", \"2015-03-03\", \"2015-03-04\", \"2015-03-05\", \"2015-03-06\", \"2015-03-09\", \"2015-03-10\", \"2015-03-11\", \"2015-03-12\", \"2015-03-13\", \"2015-03-16\", \"2015-03-17\", \"2015-03-18\", \"2015-03-19\", \"2015-03-20\", \"2015-03-23\", \"2015-03-24\", \"2015-03-25\", \"2015-03-26\", \"2015-03-27\", \"2015-03-30\", \"2015-03-31\", \"2015-04-01\", \"2015-04-02\", \"2015-04-06\", \"2015-04-07\", \"2015-04-08\", \"2015-04-09\", \"2015-04-10\", \"2015-04-13\", \"2015-04-14\", \"2015-04-15\", \"2015-04-16\", \"2015-04-17\", \"2015-04-20\", \"2015-04-21\", \"2015-04-22\", \"2015-04-23\", \"2015-04-24\", \"2015-04-27\", \"2015-04-28\", \"2015-04-29\", \"2015-04-30\", \"2015-05-01\", \"2015-05-04\", \"2015-05-05\", \"2015-05-06\", \"2015-05-07\", \"2015-05-08\", \"2015-05-11\", \"2015-05-12\", \"2015-05-13\", \"2015-05-14\", \"2015-05-15\", \"2015-05-18\", \"2015-05-19\", \"2015-05-20\", \"2015-05-21\", \"2015-05-22\", \"2015-05-26\", \"2015-05-27\", \"2015-05-28\", \"2015-05-29\", \"2015-06-01\", \"2015-06-02\", \"2015-06-03\", \"2015-06-04\", \"2015-06-05\", \"2015-06-08\", \"2015-06-09\", \"2015-06-10\", \"2015-06-11\", \"2015-06-12\", \"2015-06-15\", \"2015-06-16\", \"2015-06-17\", \"2015-06-18\", \"2015-06-19\", \"2015-06-22\", \"2015-06-23\", \"2015-06-24\", \"2015-06-25\", \"2015-06-26\", \"2015-06-29\", \"2015-06-30\", \"2015-07-01\", \"2015-07-02\", \"2015-07-06\", \"2015-07-07\", \"2015-07-08\", \"2015-07-09\", \"2015-07-10\", \"2015-07-13\", \"2015-07-14\", \"2015-07-15\", \"2015-07-16\", \"2015-07-17\", \"2015-07-20\", \"2015-07-21\", \"2015-07-22\", \"2015-07-23\", \"2015-07-24\", \"2015-07-27\", \"2015-07-28\", \"2015-07-29\", \"2015-07-30\", \"2015-07-31\", \"2015-08-03\", \"2015-08-04\", \"2015-08-05\", \"2015-08-06\", \"2015-08-07\", \"2015-08-10\", \"2015-08-11\", \"2015-08-12\", \"2015-08-13\", \"2015-08-14\", \"2015-08-17\", \"2015-08-18\", \"2015-08-19\", \"2015-08-20\", \"2015-08-21\", \"2015-08-24\", \"2015-08-25\", \"2015-08-26\", \"2015-08-27\", \"2015-08-28\", \"2015-08-31\", \"2015-09-01\", \"2015-09-02\", \"2015-09-03\", \"2015-09-04\", \"2015-09-08\", \"2015-09-09\", \"2015-09-10\", \"2015-09-11\", \"2015-09-14\", \"2015-09-15\", \"2015-09-16\", \"2015-09-17\", \"2015-09-18\", \"2015-09-21\", \"2015-09-22\", \"2015-09-23\", \"2015-09-24\", \"2015-09-25\", \"2015-09-28\", \"2015-09-29\", \"2015-09-30\", \"2015-10-01\", \"2015-10-02\", \"2015-10-05\", \"2015-10-06\", \"2015-10-07\", \"2015-10-08\", \"2015-10-09\", \"2015-10-12\", \"2015-10-13\", \"2015-10-14\", \"2015-10-15\", \"2015-10-16\", \"2015-10-19\", \"2015-10-20\", \"2015-10-21\", \"2015-10-22\", \"2015-10-23\", \"2015-10-26\", \"2015-10-27\", \"2015-10-28\", \"2015-10-29\", \"2015-10-30\", \"2015-11-02\", \"2015-11-03\", \"2015-11-04\", \"2015-11-05\", \"2015-11-06\", \"2015-11-09\", \"2015-11-10\", \"2015-11-11\", \"2015-11-12\", \"2015-11-13\", \"2015-11-16\", \"2015-11-17\", \"2015-11-18\", \"2015-11-19\", \"2015-11-20\", \"2015-11-23\", \"2015-11-24\", \"2015-11-25\", \"2015-11-27\", \"2015-11-30\", \"2015-12-01\", \"2015-12-02\", \"2015-12-03\", \"2015-12-04\", \"2015-12-07\", \"2015-12-08\", \"2015-12-09\", \"2015-12-10\", \"2015-12-11\", \"2015-12-14\", \"2015-12-15\", \"2015-12-16\", \"2015-12-17\", \"2015-12-18\", \"2015-12-21\", \"2015-12-22\", \"2015-12-23\", \"2015-12-24\", \"2015-12-28\", \"2015-12-29\", \"2015-12-30\", \"2015-12-31\", \"2016-01-04\", \"2016-01-05\", \"2016-01-06\", \"2016-01-07\", \"2016-01-08\", \"2016-01-11\", \"2016-01-12\", \"2016-01-13\", \"2016-01-14\", \"2016-01-15\", \"2016-01-19\", \"2016-01-20\", \"2016-01-21\", \"2016-01-22\", \"2016-01-25\", \"2016-01-26\", \"2016-01-27\", \"2016-01-28\", \"2016-01-29\", \"2016-02-01\", \"2016-02-02\", \"2016-02-03\", \"2016-02-04\", \"2016-02-05\", \"2016-02-08\", \"2016-02-09\", \"2016-02-10\", \"2016-02-11\", \"2016-02-12\", \"2016-02-16\", \"2016-02-17\", \"2016-02-18\", \"2016-02-19\", \"2016-02-22\", \"2016-02-23\", \"2016-02-24\", \"2016-02-25\", \"2016-02-26\", \"2016-02-29\", \"2016-03-01\", \"2016-03-02\", \"2016-03-03\", \"2016-03-04\", \"2016-03-07\", \"2016-03-08\", \"2016-03-09\", \"2016-03-10\", \"2016-03-11\", \"2016-03-14\", \"2016-03-15\", \"2016-03-16\", \"2016-03-17\", \"2016-03-18\", \"2016-03-21\", \"2016-03-22\", \"2016-03-23\", \"2016-03-24\", \"2016-03-28\", \"2016-03-29\", \"2016-03-30\", \"2016-03-31\", \"2016-04-01\", \"2016-04-04\", \"2016-04-05\", \"2016-04-06\", \"2016-04-07\", \"2016-04-08\", \"2016-04-11\", \"2016-04-12\", \"2016-04-13\", \"2016-04-14\", \"2016-04-15\", \"2016-04-18\", \"2016-04-19\", \"2016-04-20\", \"2016-04-21\", \"2016-04-22\", \"2016-04-25\", \"2016-04-26\", \"2016-04-27\", \"2016-04-28\", \"2016-04-29\", \"2016-05-02\", \"2016-05-03\", \"2016-05-04\", \"2016-05-05\", \"2016-05-06\", \"2016-05-09\", \"2016-05-10\", \"2016-05-11\", \"2016-05-12\", \"2016-05-13\", \"2016-05-16\", \"2016-05-17\", \"2016-05-18\", \"2016-05-19\", \"2016-05-20\", \"2016-05-23\", \"2016-05-24\", \"2016-05-25\", \"2016-05-26\", \"2016-05-27\", \"2016-05-31\", \"2016-06-01\", \"2016-06-02\", \"2016-06-03\", \"2016-06-06\", \"2016-06-07\", \"2016-06-08\", \"2016-06-09\", \"2016-06-10\", \"2016-06-13\", \"2016-06-14\", \"2016-06-15\", \"2016-06-16\", \"2016-06-17\", \"2016-06-20\", \"2016-06-21\", \"2016-06-22\", \"2016-06-23\", \"2016-06-24\", \"2016-06-27\", \"2016-06-28\", \"2016-06-29\", \"2016-06-30\", \"2016-07-01\", \"2016-07-05\", \"2016-07-06\", \"2016-07-07\", \"2016-07-08\", \"2016-07-11\", \"2016-07-12\", \"2016-07-13\", \"2016-07-14\", \"2016-07-15\", \"2016-07-18\", \"2016-07-19\", \"2016-07-20\", \"2016-07-21\", \"2016-07-22\", \"2016-07-25\", \"2016-07-26\", \"2016-07-27\", \"2016-07-28\", \"2016-07-29\", \"2016-08-01\", \"2016-08-02\", \"2016-08-03\", \"2016-08-04\", \"2016-08-05\", \"2016-08-08\", \"2016-08-09\", \"2016-08-10\", \"2016-08-11\", \"2016-08-12\", \"2016-08-15\", \"2016-08-16\", \"2016-08-17\", \"2016-08-18\", \"2016-08-19\", \"2016-08-22\", \"2016-08-23\", \"2016-08-24\", \"2016-08-25\", \"2016-08-26\", \"2016-08-29\", \"2016-08-30\", \"2016-08-31\", \"2016-09-01\", \"2016-09-02\", \"2016-09-06\", \"2016-09-07\", \"2016-09-08\", \"2016-09-09\", \"2016-09-12\", \"2016-09-13\", \"2016-09-14\", \"2016-09-15\", \"2016-09-16\", \"2016-09-19\", \"2016-09-20\", \"2016-09-21\", \"2016-09-22\", \"2016-09-23\", \"2016-09-26\", \"2016-09-27\", \"2016-09-28\", \"2016-09-29\", \"2016-09-30\", \"2016-10-03\", \"2016-10-04\", \"2016-10-05\", \"2016-10-06\", \"2016-10-07\", \"2016-10-10\", \"2016-10-11\", \"2016-10-12\", \"2016-10-13\", \"2016-10-14\", \"2016-10-17\", \"2016-10-18\", \"2016-10-19\", \"2016-10-20\", \"2016-10-21\", \"2016-10-24\", \"2016-10-25\", \"2016-10-26\", \"2016-10-27\", \"2016-10-28\", \"2016-10-31\", \"2016-11-01\", \"2016-11-02\", \"2016-11-03\", \"2016-11-04\", \"2016-11-07\", \"2016-11-08\", \"2016-11-09\", \"2016-11-10\", \"2016-11-11\", \"2016-11-14\", \"2016-11-15\", \"2016-11-16\", \"2016-11-17\", \"2016-11-18\", \"2016-11-21\", \"2016-11-22\", \"2016-11-23\", \"2016-11-25\", \"2016-11-28\", \"2016-11-29\", \"2016-11-30\", \"2016-12-01\", \"2016-12-02\", \"2016-12-05\", \"2016-12-06\", \"2016-12-07\", \"2016-12-08\", \"2016-12-09\", \"2016-12-12\", \"2016-12-13\", \"2016-12-14\", \"2016-12-15\", \"2016-12-16\", \"2016-12-19\", \"2016-12-20\", \"2016-12-21\", \"2016-12-22\", \"2016-12-23\", \"2016-12-27\", \"2016-12-28\", \"2016-12-29\", \"2016-12-30\", \"2017-01-03\", \"2017-01-04\", \"2017-01-05\", \"2017-01-06\", \"2017-01-09\", \"2017-01-10\", \"2017-01-11\", \"2017-01-12\", \"2017-01-13\", \"2017-01-17\", \"2017-01-18\", \"2017-01-19\", \"2017-01-20\", \"2017-01-23\", \"2017-01-24\", \"2017-01-25\", \"2017-01-26\", \"2017-01-27\", \"2017-01-30\", \"2017-01-31\", \"2017-02-01\", \"2017-02-02\", \"2017-02-03\", \"2017-02-06\", \"2017-02-07\", \"2017-02-08\", \"2017-02-09\", \"2017-02-10\", \"2017-02-13\", \"2017-02-14\", \"2017-02-15\", \"2017-02-16\"], \"y\": [128.880005, 128.779999, 129.029999, 129.5, 133.0, 133.600006, 131.600006, 130.869995, 130.570007, 130.279999, 129.520004, 129.559998, 128.75, 129.369995, 129.570007, 127.220001, 124.769997, 124.900002, 125.400002, 124.949997, 127.32, 129.16000400000001, 129.25, 128.399994, 127.849998, 128.03999299999998, 126.82, 124.879997, 124.699997, 126.400002, 126.489998, 125.120003, 125.559998, 127.510002, 128.119995, 126.400002, 126.58000200000001, 127.209999, 128.570007, 127.290001, 127.129997, 127.099998, 126.139999, 128.119995, 128.199997, 128.869995, 130.419998, 130.630005, 133.130005, 134.53999299999998, 131.58999599999999, 128.639999, 130.130005, 130.570007, 128.449997, 126.75, 126.08000200000001, 127.620003, 127.559998, 126.879997, 127.190002, 128.949997, 129.490005, 130.720001, 130.880005, 130.979996, 131.630005, 132.970001, 132.91000400000001, 132.259995, 131.949997, 131.449997, 131.389999, 130.66000400000001, 130.940002, 130.580002, 129.690002, 129.21000700000002, 128.080002, 129.33999599999999, 130.179993, 128.330002, 127.239998, 127.849998, 127.879997, 128.309998, 127.82, 128.059998, 127.610001, 129.800003, 129.199997, 127.989998, 126.470001, 126.120003, 126.940002, 126.690002, 126.230003, 126.150002, 124.639999, 124.059998, 123.849998, 125.760002, 126.370003, 127.150002, 128.570007, 129.619995, 132.970001, 132.919998, 125.5, 127.089996, 125.739998, 123.610001, 123.910004, 123.5, 122.57, 122.639999, 122.57, 117.699997, 117.440002, 116.5, 116.25, 119.989998, 118.18, 115.41999799999999, 116.400002, 116.309998, 117.650002, 117.440002, 116.519997, 114.349998, 111.900002, 108.800003, 111.110001, 109.889999, 113.239998, 113.309998, 114.529999, 111.879997, 112.339996, 112.779999, 110.449997, 112.559998, 114.019997, 113.279999, 114.209999, 116.889999, 116.529999, 116.540001, 116.489998, 114.300003, 115.370003, 114.18, 114.720001, 115.5, 116.690002, 114.57, 113.510002, 111.540001, 109.620003, 111.010002, 111.370003, 111.739998, 111.769997, 110.190002, 112.279999, 112.75, 112.449997, 111.519997, 112.099998, 112.0, 111.75, 114.16999799999999, 115.58000200000001, 115.5, 119.230003, 118.129997, 116.540001, 119.300003, 120.690002, 121.220001, 121.360001, 123.489998, 123.82, 122.690002, 121.809998, 121.809998, 118.07, 117.41999799999999, 116.82, 115.57, 114.239998, 115.050003, 117.489998, 119.75, 119.91999799999999, 119.730003, 119.349998, 119.230003, 118.410004, 119.410004, 118.809998, 118.110001, 116.790001, 119.25, 119.860001, 118.599998, 117.690002, 116.940002, 115.389999, 112.68, 112.800003, 111.989998, 112.25, 109.519997, 107.370003, 107.720001, 108.849998, 109.0, 107.690002, 109.43, 108.699997, 107.029999, 105.370003, 105.849998, 102.370003, 100.129997, 99.110001, 99.059998, 100.690002, 101.190002, 100.480003, 97.709999, 98.650002, 98.190002, 97.879997, 101.459999, 101.529999, 100.879997, 96.629997, 94.519997, 97.339996, 96.709999, 96.040001, 96.839996, 97.33000200000001, 96.91999799999999, 95.699997, 95.940002, 96.349998, 94.720001, 94.5, 96.849998, 98.209999, 98.889999, 96.760002, 96.900002, 96.5, 96.379997, 96.760002, 98.019997, 98.230003, 100.769997, 100.889999, 101.709999, 103.75, 102.83000200000001, 101.760002, 101.58000200000001, 102.239998, 102.279999, 102.910004, 105.18, 106.309998, 106.470001, 106.5, 107.650002, 107.290001, 107.07, 106.25, 106.190002, 107.790001, 110.41999799999999, 109.900002, 110.0, 112.190002, 110.730003, 110.980003, 110.41999799999999, 109.769997, 110.610001, 110.5, 112.339996, 112.389999, 112.300003, 108.949997, 108.0, 108.089996, 106.93, 106.480003, 105.650002, 105.300003, 98.709999, 97.879997, 94.720001, 94.08000200000001, 95.739998, 95.900002, 94.07, 93.449997, 93.769997, 93.57, 93.57, 92.779999, 91.66999799999999, 94.389999, 94.699997, 95.209999, 94.639999, 95.43, 97.190002, 98.089996, 99.739998, 100.730003, 100.470001, 100.400002, 99.540001, 97.839996, 98.269997, 101.889999, 99.870003, 99.559998, 99.989998, 99.349998, 99.120003, 98.480003, 98.410004, 97.75, 96.650002, 96.57, 96.349998, 96.889999, 96.290001, 94.660004, 93.050003, 93.660004, 94.550003, 95.769997, 96.470001, 95.400002, 95.660004, 96.5, 96.889999, 97.650002, 97.699997, 97.66999799999999, 98.989998, 99.300003, 100.129997, 100.0, 100.459999, 101.0, 99.300003, 98.839996, 97.970001, 104.349998, 104.449997, 104.550003, 106.150002, 106.07, 105.839996, 106.0, 107.650002, 108.370003, 108.940002, 108.900002, 108.93, 108.440002, 109.540001, 110.230003, 109.370003, 109.599998, 109.690002, 109.099998, 109.32, 108.75, 107.879997, 107.949997, 107.440002, 106.5, 106.57, 106.800003, 108.0, 108.300003, 108.760002, 107.269997, 105.720001, 105.720001, 108.790001, 113.029999, 115.730003, 116.129997, 116.18, 114.120003, 113.989998, 114.940002, 114.790001, 113.389999, 113.18, 114.639999, 113.800003, 113.370003, 113.050003, 114.309998, 113.660004, 114.339996, 114.559998, 116.75, 118.690002, 117.980003, 117.440002, 118.16999799999999, 117.839996, 118.209999, 117.760002, 117.379997, 116.910004, 117.739998, 118.360001, 115.699997, 115.860001, 115.209999, 114.230003, 113.769997, 112.349998, 111.459999, 110.25, 110.510002, 111.720001, 111.32, 111.089996, 108.870003, 107.809998, 107.68, 110.230003, 110.349998, 110.540001, 111.989998, 112.41999799999999, 111.510002, 111.870003, 112.470001, 112.029999, 112.199997, 110.940002, 110.089996, 110.029999, 110.360001, 111.190002, 112.43, 114.699997, 115.0, 115.91999799999999, 116.199997, 116.730003, 116.5, 117.379997, 117.5, 117.400002, 116.510002, 116.519997, 117.800003, 118.019997, 117.110001, 117.199997, 116.33000200000001, 116.510002, 116.860001, 118.160004, 119.43, 119.379997, 119.93, 119.300003, 119.620003, 120.239998, 120.5, 120.089996, 120.449997, 120.809998, 120.099998, 122.099998, 122.440002, 122.349998, 121.629997, 121.389999, 130.490005, 129.389999, 129.190002, 130.5, 132.08999599999999, 132.220001, 132.449997, 132.940002, 133.820007, 135.08999599999999, 136.270004, 135.899994]}],\n",
              "                        {\"template\": {\"data\": {\"bar\": [{\"error_x\": {\"color\": \"#2a3f5f\"}, \"error_y\": {\"color\": \"#2a3f5f\"}, \"marker\": {\"line\": {\"color\": \"#E5ECF6\", \"width\": 0.5}}, \"type\": \"bar\"}], \"barpolar\": [{\"marker\": {\"line\": {\"color\": \"#E5ECF6\", \"width\": 0.5}}, \"type\": \"barpolar\"}], \"carpet\": [{\"aaxis\": {\"endlinecolor\": \"#2a3f5f\", \"gridcolor\": \"white\", \"linecolor\": \"white\", \"minorgridcolor\": \"white\", \"startlinecolor\": \"#2a3f5f\"}, \"baxis\": {\"endlinecolor\": \"#2a3f5f\", \"gridcolor\": \"white\", \"linecolor\": \"white\", \"minorgridcolor\": \"white\", \"startlinecolor\": \"#2a3f5f\"}, \"type\": \"carpet\"}], \"choropleth\": [{\"colorbar\": {\"outlinewidth\": 0, \"ticks\": \"\"}, \"type\": \"choropleth\"}], \"contour\": [{\"colorbar\": {\"outlinewidth\": 0, \"ticks\": \"\"}, \"colorscale\": [[0.0, \"#0d0887\"], [0.1111111111111111, \"#46039f\"], [0.2222222222222222, \"#7201a8\"], [0.3333333333333333, \"#9c179e\"], [0.4444444444444444, \"#bd3786\"], [0.5555555555555556, \"#d8576b\"], [0.6666666666666666, \"#ed7953\"], [0.7777777777777778, \"#fb9f3a\"], [0.8888888888888888, \"#fdca26\"], [1.0, \"#f0f921\"]], \"type\": \"contour\"}], \"contourcarpet\": [{\"colorbar\": {\"outlinewidth\": 0, \"ticks\": \"\"}, \"type\": \"contourcarpet\"}], \"heatmap\": [{\"colorbar\": {\"outlinewidth\": 0, \"ticks\": \"\"}, \"colorscale\": [[0.0, \"#0d0887\"], [0.1111111111111111, \"#46039f\"], [0.2222222222222222, \"#7201a8\"], [0.3333333333333333, \"#9c179e\"], [0.4444444444444444, \"#bd3786\"], [0.5555555555555556, \"#d8576b\"], [0.6666666666666666, \"#ed7953\"], [0.7777777777777778, \"#fb9f3a\"], [0.8888888888888888, \"#fdca26\"], [1.0, \"#f0f921\"]], \"type\": \"heatmap\"}], \"heatmapgl\": [{\"colorbar\": {\"outlinewidth\": 0, \"ticks\": \"\"}, \"colorscale\": [[0.0, \"#0d0887\"], [0.1111111111111111, \"#46039f\"], [0.2222222222222222, \"#7201a8\"], [0.3333333333333333, \"#9c179e\"], [0.4444444444444444, \"#bd3786\"], [0.5555555555555556, \"#d8576b\"], [0.6666666666666666, \"#ed7953\"], [0.7777777777777778, \"#fb9f3a\"], [0.8888888888888888, \"#fdca26\"], [1.0, \"#f0f921\"]], \"type\": \"heatmapgl\"}], \"histogram\": [{\"marker\": {\"colorbar\": {\"outlinewidth\": 0, \"ticks\": \"\"}}, \"type\": \"histogram\"}], \"histogram2d\": [{\"colorbar\": {\"outlinewidth\": 0, \"ticks\": \"\"}, \"colorscale\": [[0.0, \"#0d0887\"], [0.1111111111111111, \"#46039f\"], [0.2222222222222222, \"#7201a8\"], [0.3333333333333333, \"#9c179e\"], [0.4444444444444444, \"#bd3786\"], [0.5555555555555556, \"#d8576b\"], [0.6666666666666666, \"#ed7953\"], [0.7777777777777778, \"#fb9f3a\"], [0.8888888888888888, \"#fdca26\"], [1.0, \"#f0f921\"]], \"type\": \"histogram2d\"}], \"histogram2dcontour\": [{\"colorbar\": {\"outlinewidth\": 0, \"ticks\": \"\"}, \"colorscale\": [[0.0, \"#0d0887\"], [0.1111111111111111, \"#46039f\"], [0.2222222222222222, \"#7201a8\"], [0.3333333333333333, \"#9c179e\"], [0.4444444444444444, \"#bd3786\"], [0.5555555555555556, \"#d8576b\"], [0.6666666666666666, \"#ed7953\"], [0.7777777777777778, \"#fb9f3a\"], [0.8888888888888888, \"#fdca26\"], [1.0, \"#f0f921\"]], \"type\": \"histogram2dcontour\"}], \"mesh3d\": [{\"colorbar\": {\"outlinewidth\": 0, \"ticks\": \"\"}, \"type\": \"mesh3d\"}], \"parcoords\": [{\"line\": {\"colorbar\": {\"outlinewidth\": 0, \"ticks\": \"\"}}, \"type\": \"parcoords\"}], \"pie\": [{\"automargin\": true, \"type\": \"pie\"}], \"scatter\": [{\"marker\": {\"colorbar\": {\"outlinewidth\": 0, \"ticks\": \"\"}}, \"type\": \"scatter\"}], \"scatter3d\": [{\"line\": {\"colorbar\": {\"outlinewidth\": 0, \"ticks\": \"\"}}, \"marker\": {\"colorbar\": {\"outlinewidth\": 0, \"ticks\": \"\"}}, \"type\": \"scatter3d\"}], \"scattercarpet\": [{\"marker\": {\"colorbar\": {\"outlinewidth\": 0, \"ticks\": \"\"}}, \"type\": \"scattercarpet\"}], \"scattergeo\": [{\"marker\": {\"colorbar\": {\"outlinewidth\": 0, \"ticks\": \"\"}}, \"type\": \"scattergeo\"}], \"scattergl\": [{\"marker\": {\"colorbar\": {\"outlinewidth\": 0, \"ticks\": \"\"}}, \"type\": \"scattergl\"}], \"scattermapbox\": [{\"marker\": {\"colorbar\": {\"outlinewidth\": 0, \"ticks\": \"\"}}, \"type\": \"scattermapbox\"}], \"scatterpolar\": [{\"marker\": {\"colorbar\": {\"outlinewidth\": 0, \"ticks\": \"\"}}, \"type\": \"scatterpolar\"}], \"scatterpolargl\": [{\"marker\": {\"colorbar\": {\"outlinewidth\": 0, \"ticks\": \"\"}}, \"type\": \"scatterpolargl\"}], \"scatterternary\": [{\"marker\": {\"colorbar\": {\"outlinewidth\": 0, \"ticks\": \"\"}}, \"type\": \"scatterternary\"}], \"surface\": [{\"colorbar\": {\"outlinewidth\": 0, \"ticks\": \"\"}, \"colorscale\": [[0.0, \"#0d0887\"], [0.1111111111111111, \"#46039f\"], [0.2222222222222222, \"#7201a8\"], [0.3333333333333333, \"#9c179e\"], [0.4444444444444444, \"#bd3786\"], [0.5555555555555556, \"#d8576b\"], [0.6666666666666666, \"#ed7953\"], [0.7777777777777778, \"#fb9f3a\"], [0.8888888888888888, \"#fdca26\"], [1.0, \"#f0f921\"]], \"type\": \"surface\"}], \"table\": [{\"cells\": {\"fill\": {\"color\": \"#EBF0F8\"}, \"line\": {\"color\": \"white\"}}, \"header\": {\"fill\": {\"color\": \"#C8D4E3\"}, \"line\": {\"color\": \"white\"}}, \"type\": \"table\"}]}, \"layout\": {\"annotationdefaults\": {\"arrowcolor\": \"#2a3f5f\", \"arrowhead\": 0, \"arrowwidth\": 1}, \"coloraxis\": {\"colorbar\": {\"outlinewidth\": 0, \"ticks\": \"\"}}, \"colorscale\": {\"diverging\": [[0, \"#8e0152\"], [0.1, \"#c51b7d\"], [0.2, \"#de77ae\"], [0.3, \"#f1b6da\"], [0.4, \"#fde0ef\"], [0.5, \"#f7f7f7\"], [0.6, \"#e6f5d0\"], [0.7, \"#b8e186\"], [0.8, \"#7fbc41\"], [0.9, \"#4d9221\"], [1, \"#276419\"]], \"sequential\": [[0.0, \"#0d0887\"], [0.1111111111111111, \"#46039f\"], [0.2222222222222222, \"#7201a8\"], [0.3333333333333333, \"#9c179e\"], [0.4444444444444444, \"#bd3786\"], [0.5555555555555556, \"#d8576b\"], [0.6666666666666666, \"#ed7953\"], [0.7777777777777778, \"#fb9f3a\"], [0.8888888888888888, \"#fdca26\"], [1.0, \"#f0f921\"]], \"sequentialminus\": [[0.0, \"#0d0887\"], [0.1111111111111111, \"#46039f\"], [0.2222222222222222, \"#7201a8\"], [0.3333333333333333, \"#9c179e\"], [0.4444444444444444, \"#bd3786\"], [0.5555555555555556, \"#d8576b\"], [0.6666666666666666, \"#ed7953\"], [0.7777777777777778, \"#fb9f3a\"], [0.8888888888888888, \"#fdca26\"], [1.0, \"#f0f921\"]]}, \"colorway\": [\"#636efa\", \"#EF553B\", \"#00cc96\", \"#ab63fa\", \"#FFA15A\", \"#19d3f3\", \"#FF6692\", \"#B6E880\", \"#FF97FF\", \"#FECB52\"], \"font\": {\"color\": \"#2a3f5f\"}, \"geo\": {\"bgcolor\": \"white\", \"lakecolor\": \"white\", \"landcolor\": \"#E5ECF6\", \"showlakes\": true, \"showland\": true, \"subunitcolor\": \"white\"}, \"hoverlabel\": {\"align\": \"left\"}, \"hovermode\": \"closest\", \"mapbox\": {\"style\": \"light\"}, \"paper_bgcolor\": \"white\", \"plot_bgcolor\": \"#E5ECF6\", \"polar\": {\"angularaxis\": {\"gridcolor\": \"white\", \"linecolor\": \"white\", \"ticks\": \"\"}, \"bgcolor\": \"#E5ECF6\", \"radialaxis\": {\"gridcolor\": \"white\", \"linecolor\": \"white\", \"ticks\": \"\"}}, \"scene\": {\"xaxis\": {\"backgroundcolor\": \"#E5ECF6\", \"gridcolor\": \"white\", \"gridwidth\": 2, \"linecolor\": \"white\", \"showbackground\": true, \"ticks\": \"\", \"zerolinecolor\": \"white\"}, \"yaxis\": {\"backgroundcolor\": \"#E5ECF6\", \"gridcolor\": \"white\", \"gridwidth\": 2, \"linecolor\": \"white\", \"showbackground\": true, \"ticks\": \"\", \"zerolinecolor\": \"white\"}, \"zaxis\": {\"backgroundcolor\": \"#E5ECF6\", \"gridcolor\": \"white\", \"gridwidth\": 2, \"linecolor\": \"white\", \"showbackground\": true, \"ticks\": \"\", \"zerolinecolor\": \"white\"}}, \"shapedefaults\": {\"line\": {\"color\": \"#2a3f5f\"}}, \"ternary\": {\"aaxis\": {\"gridcolor\": \"white\", \"linecolor\": \"white\", \"ticks\": \"\"}, \"baxis\": {\"gridcolor\": \"white\", \"linecolor\": \"white\", \"ticks\": \"\"}, \"bgcolor\": \"#E5ECF6\", \"caxis\": {\"gridcolor\": \"white\", \"linecolor\": \"white\", \"ticks\": \"\"}}, \"title\": {\"x\": 0.05}, \"xaxis\": {\"automargin\": true, \"gridcolor\": \"white\", \"linecolor\": \"white\", \"ticks\": \"\", \"title\": {\"standoff\": 15}, \"zerolinecolor\": \"white\", \"zerolinewidth\": 2}, \"yaxis\": {\"automargin\": true, \"gridcolor\": \"white\", \"linecolor\": \"white\", \"ticks\": \"\", \"title\": {\"standoff\": 15}, \"zerolinecolor\": \"white\", \"zerolinewidth\": 2}}}},\n",
              "                        {\"responsive\": true}\n",
              "                    ).then(function(){\n",
              "                            \n",
              "var gd = document.getElementById('fbb35172-2a99-4c8d-8dc6-948dce7a7a19');\n",
              "var x = new MutationObserver(function (mutations, observer) {{\n",
              "        var display = window.getComputedStyle(gd).display;\n",
              "        if (!display || display === 'none') {{\n",
              "            console.log([gd, 'removed!']);\n",
              "            Plotly.purge(gd);\n",
              "            observer.disconnect();\n",
              "        }}\n",
              "}});\n",
              "\n",
              "// Listen for the removal of the full notebook cells\n",
              "var notebookContainer = gd.closest('#notebook-container');\n",
              "if (notebookContainer) {{\n",
              "    x.observe(notebookContainer, {childList: true});\n",
              "}}\n",
              "\n",
              "// Listen for the clearing of the current output cell\n",
              "var outputEl = gd.closest('.output');\n",
              "if (outputEl) {{\n",
              "    x.observe(outputEl, {childList: true});\n",
              "}}\n",
              "\n",
              "                        })\n",
              "                };\n",
              "                \n",
              "            </script>\n",
              "        </div>\n",
              "</body>\n",
              "</html>"
            ]
          },
          "metadata": {
            "tags": []
          }
        }
      ]
    }
  ]
}